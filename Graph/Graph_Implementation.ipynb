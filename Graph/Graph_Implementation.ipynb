{
  "nbformat": 4,
  "nbformat_minor": 0,
  "metadata": {
    "colab": {
      "provenance": []
    },
    "kernelspec": {
      "name": "python3",
      "display_name": "Python 3"
    },
    "language_info": {
      "name": "python"
    }
  },
  "cells": [
    {
      "cell_type": "code",
      "execution_count": null,
      "metadata": {
        "id": "NnKlNBTqkISQ"
      },
      "outputs": [],
      "source": [
        "class Graph:\n",
        "\n",
        "  def __init__(self,edeges):\n",
        "    self.edege=edeges\n",
        "    self.route_dict={}\n",
        "    for start,end in self.edege:\n",
        "      if start in self.route_dict:\n",
        "        self.route_dict[start].append(end)\n",
        "      else:\n",
        "        self.route_dict[start]=[end]\n",
        "    print(self.route_dict)\n",
        "\n",
        "  def find_routes(self,start,end,path=[]):\n",
        "    path=path+[start]\n",
        "\n",
        "    if start==end:\n",
        "      return [path]\n",
        "\n",
        "    if start not in self.route_dict:\n",
        "      return []\n",
        "\n",
        "    paths=[]\n",
        "    for node in self.route_dict[start]:\n",
        "      if node not in path:\n",
        "        new_route=self.find_routes(node,end,path)\n",
        "\n",
        "        for p in new_route:\n",
        "          paths.append(p)\n",
        "    return paths\n",
        "\n",
        "  def display_routes(self, start, end):\n",
        "    routes = self.find_routes(start, end)\n",
        "    for route in routes: print(\" ---> \".join(route))\n",
        "\n",
        "  def shortest_path(self,start, end):\n",
        "    routes = self.find_routes(start, end)\n",
        "    return min(routes,key=len)"
      ]
    },
    {
      "cell_type": "code",
      "source": [
        "routes=[\n",
        "     ('Mumbai','Dhaka'),\n",
        "     ('Dhaka','Mymensingh'),\n",
        "     ('Khulna','Dhaka'),\n",
        "     ('Rajshahi','Dhaka'),\n",
        "     ('Rajshahi','Khulna'),\n",
        "     ('Sylhet','Dhaka')\n",
        "\n",
        "]\n",
        "\n",
        "route_dict=Graph(routes)\n",
        "\n",
        "route_dict.display_routes('Rajshahi','Mymensingh')\n",
        "route_dict.shortest_path('Rajshahi','Mymensingh')"
      ],
      "metadata": {
        "colab": {
          "base_uri": "https://localhost:8080/"
        },
        "id": "WfZMBaJFovjV",
        "outputId": "08fd2698-e821-48c1-d4b4-989c37f278c9"
      },
      "execution_count": null,
      "outputs": [
        {
          "output_type": "stream",
          "name": "stdout",
          "text": [
            "{'Mumbai': ['Dhaka'], 'Dhaka': ['Mymensingh'], 'Khulna': ['Dhaka'], 'Rajshahi': ['Dhaka', 'Khulna'], 'Sylhet': ['Dhaka']}\n",
            "Rajshahi ---> Dhaka ---> Mymensingh\n",
            "Rajshahi ---> Khulna ---> Dhaka ---> Mymensingh\n"
          ]
        },
        {
          "output_type": "execute_result",
          "data": {
            "text/plain": [
              "['Rajshahi', 'Dhaka', 'Mymensingh']"
            ]
          },
          "metadata": {},
          "execution_count": 38
        }
      ]
    },
    {
      "cell_type": "code",
      "source": [
        "route={'Mumbai': ['Dhaka'], 'Dhaka': ['Mymensingh'], 'Khulna': ['Dhaka'], 'Rajshahi': ['Dhaka', 'Khulna'], 'Sylhet': ['Dhaka']}"
      ],
      "metadata": {
        "id": "lrBDRJweqpgq"
      },
      "execution_count": null,
      "outputs": []
    },
    {
      "cell_type": "code",
      "source": [
        "route.items()"
      ],
      "metadata": {
        "colab": {
          "base_uri": "https://localhost:8080/"
        },
        "id": "f-kBY6TXsUcK",
        "outputId": "b9482bd3-ea2d-4848-efb7-0cccc4e8da23"
      },
      "execution_count": null,
      "outputs": [
        {
          "output_type": "execute_result",
          "data": {
            "text/plain": [
              "dict_items([('Mumbai', ['Dhaka']), ('Dhaka', ['Mymensingh']), ('Khulna', ['Dhaka']), ('Rajshahi', ['Dhaka', 'Khulna']), ('Sylhet', ['Dhaka'])])"
            ]
          },
          "metadata": {},
          "execution_count": 16
        }
      ]
    },
    {
      "cell_type": "code",
      "source": [
        "for keys,values in route.items():\n",
        "  for item in values:\n",
        "    if item=='Mymensingh':\n",
        "      print(keys)\n",
        "\n"
      ],
      "metadata": {
        "colab": {
          "base_uri": "https://localhost:8080/"
        },
        "id": "icM-xHHQskVH",
        "outputId": "864f5991-c606-436f-8288-dad06b34a744"
      },
      "execution_count": null,
      "outputs": [
        {
          "output_type": "stream",
          "name": "stdout",
          "text": [
            "Dhaka\n"
          ]
        }
      ]
    },
    {
      "cell_type": "code",
      "source": [],
      "metadata": {
        "id": "qWO2yxL5w3-i"
      },
      "execution_count": null,
      "outputs": []
    }
  ]
}