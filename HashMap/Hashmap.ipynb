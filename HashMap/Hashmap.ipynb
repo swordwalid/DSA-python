{
  "nbformat": 4,
  "nbformat_minor": 0,
  "metadata": {
    "colab": {
      "provenance": []
    },
    "kernelspec": {
      "name": "python3",
      "display_name": "Python 3"
    },
    "language_info": {
      "name": "python"
    }
  },
  "cells": [
    {
      "cell_type": "markdown",
      "source": [
        "## Python HashMap implementation"
      ],
      "metadata": {
        "id": "w8T5c3_fmI5X"
      }
    },
    {
      "cell_type": "code",
      "source": [
        "def get_hash(char):\n",
        "  h=0\n",
        "  for c in char:\n",
        "    h+=ord(c)\n",
        "  return h%10    # we are assuming our array size is of 10"
      ],
      "metadata": {
        "id": "XRlave7hmOWp"
      },
      "execution_count": null,
      "outputs": []
    },
    {
      "cell_type": "code",
      "source": [
        "get_hash('march 3')"
      ],
      "metadata": {
        "colab": {
          "base_uri": "https://localhost:8080/"
        },
        "id": "oKQJeXsFmpdi",
        "outputId": "8ed0c14f-300e-4ca0-e2ba-be500c5ed65a"
      },
      "execution_count": null,
      "outputs": [
        {
          "output_type": "execute_result",
          "data": {
            "text/plain": [
              "6"
            ]
          },
          "metadata": {},
          "execution_count": 4
        }
      ]
    },
    {
      "cell_type": "code",
      "source": [
        "class HashTable:\n",
        "  def __init__(self):\n",
        "    self.MAX=100\n",
        "    self.arr=[None for i in range(self.MAX)]\n",
        "  def get_hash(self,key):\n",
        "    h=0\n",
        "    for c in key:\n",
        "      h+=ord(c)\n",
        "    return h%self.MAX\n",
        "  def __setitem__(self,key,value):\n",
        "    h=self.get_hash(key)\n",
        "    self.arr[h]=value\n",
        "  def __getitem__(self,key):\n",
        "    return self.arr[self.get_hash(key)]\n",
        "\n",
        "  def __delitem__(self,key):\n",
        "    h=self.get_hash(key)\n",
        "    self.arr[h]=None"
      ],
      "metadata": {
        "id": "Ne9ky1uAmvqm"
      },
      "execution_count": 1,
      "outputs": []
    },
    {
      "cell_type": "code",
      "source": [
        "ht=HashTable()\n",
        "# ht.add('march 6',420) #MOD(key,arr_size)=9 (index)\n",
        "# ht.add('march 17',430) #MOD(key,arr_size)=59 (index)\n",
        "ht['march 6']=310\n",
        "ht['march 17']=340\n",
        "ht['march 8']=380\n",
        "ht['march 9']=400\n",
        "ht['march 10']=297\n",
        "\n"
      ],
      "metadata": {
        "id": "I2swySGhs8U-"
      },
      "execution_count": 2,
      "outputs": []
    },
    {
      "cell_type": "code",
      "source": [
        "ht['march 6']\n"
      ],
      "metadata": {
        "colab": {
          "base_uri": "https://localhost:8080/"
        },
        "id": "FK5cPkKNtHH6",
        "outputId": "9475cc8b-be40-4f75-aabb-2d4264061b79"
      },
      "execution_count": 4,
      "outputs": [
        {
          "output_type": "execute_result",
          "data": {
            "text/plain": [
              "310"
            ]
          },
          "metadata": {},
          "execution_count": 4
        }
      ]
    },
    {
      "cell_type": "code",
      "source": [
        "ht.arr"
      ],
      "metadata": {
        "colab": {
          "base_uri": "https://localhost:8080/"
        },
        "id": "5I-MGHz2tH-m",
        "outputId": "76aaba95-32d7-4c42-e4fb-cd8325c5a7cf"
      },
      "execution_count": 3,
      "outputs": [
        {
          "output_type": "execute_result",
          "data": {
            "text/plain": [
              "[None,\n",
              " None,\n",
              " None,\n",
              " None,\n",
              " None,\n",
              " None,\n",
              " None,\n",
              " None,\n",
              " None,\n",
              " 310,\n",
              " None,\n",
              " 380,\n",
              " 400,\n",
              " None,\n",
              " None,\n",
              " None,\n",
              " None,\n",
              " None,\n",
              " None,\n",
              " None,\n",
              " None,\n",
              " None,\n",
              " None,\n",
              " None,\n",
              " None,\n",
              " None,\n",
              " None,\n",
              " None,\n",
              " None,\n",
              " None,\n",
              " None,\n",
              " None,\n",
              " None,\n",
              " None,\n",
              " None,\n",
              " None,\n",
              " None,\n",
              " None,\n",
              " None,\n",
              " None,\n",
              " None,\n",
              " None,\n",
              " None,\n",
              " None,\n",
              " None,\n",
              " None,\n",
              " None,\n",
              " None,\n",
              " None,\n",
              " None,\n",
              " None,\n",
              " None,\n",
              " 297,\n",
              " None,\n",
              " None,\n",
              " None,\n",
              " None,\n",
              " None,\n",
              " None,\n",
              " 340,\n",
              " None,\n",
              " None,\n",
              " None,\n",
              " None,\n",
              " None,\n",
              " None,\n",
              " None,\n",
              " None,\n",
              " None,\n",
              " None,\n",
              " None,\n",
              " None,\n",
              " None,\n",
              " None,\n",
              " None,\n",
              " None,\n",
              " None,\n",
              " None,\n",
              " None,\n",
              " None,\n",
              " None,\n",
              " None,\n",
              " None,\n",
              " None,\n",
              " None,\n",
              " None,\n",
              " None,\n",
              " None,\n",
              " None,\n",
              " None,\n",
              " None,\n",
              " None,\n",
              " None,\n",
              " None,\n",
              " None,\n",
              " None,\n",
              " None,\n",
              " None,\n",
              " None,\n",
              " None]"
            ]
          },
          "metadata": {},
          "execution_count": 3
        }
      ]
    },
    {
      "cell_type": "code",
      "source": [
        "del ht['march 6'] # Now it is in index 9"
      ],
      "metadata": {
        "id": "OX0crrQ_w84L"
      },
      "execution_count": null,
      "outputs": []
    },
    {
      "cell_type": "code",
      "source": [],
      "metadata": {
        "id": "m2VqLciRxKy2"
      },
      "execution_count": null,
      "outputs": []
    },
    {
      "cell_type": "markdown",
      "source": [
        "## Handling Collision(Chaining Method)\n"
      ],
      "metadata": {
        "id": "M-J8qRljOgSb"
      }
    },
    {
      "cell_type": "code",
      "source": [
        "class HashTable:\n",
        "  def __init__(self):\n",
        "    self.MAX=10\n",
        "    self.arr=[[] for i in range(self.MAX)]\n",
        "  def get_hash(self,key):\n",
        "    h=0\n",
        "    for c in key:\n",
        "      h+=ord(c)\n",
        "    return h%self.MAX\n",
        "  def __setitem__(self,key,value):\n",
        "    h=self.get_hash(key)\n",
        "    found=False\n",
        "    for i,element in enumerate(self.arr[h]):\n",
        "      if len(element)==2 and element[0]==key:\n",
        "        self.arr[h][i]=(key,value)\n",
        "        found=True\n",
        "        break\n",
        "    if not found:\n",
        "      self.arr[h].append((key,value))\n",
        "\n",
        "  def __getitem__(self,key):\n",
        "    h=self.get_hash(key)\n",
        "    for element in self.arr[h]:\n",
        "      if element[0]==key:\n",
        "        return element[1]\n",
        "\n",
        "  def __delitem__(self,key):\n",
        "    h=self.get_hash(key)\n",
        "    for idx,element in enumerate(self.arr[h]):\n",
        "      if element[0]==key:\n",
        "        del self.arr[h][idx]"
      ],
      "metadata": {
        "id": "S9p_tSw7wU_9"
      },
      "execution_count": null,
      "outputs": []
    },
    {
      "cell_type": "code",
      "source": [
        "ht=HashTable()\n",
        "ht[\"march 6\"]=380  #index 9\n",
        "ht[\"march 17\"]=340  #index 9\n"
      ],
      "metadata": {
        "id": "SYbv4pGL1n9A"
      },
      "execution_count": null,
      "outputs": []
    },
    {
      "cell_type": "code",
      "source": [
        "ht.arr"
      ],
      "metadata": {
        "colab": {
          "base_uri": "https://localhost:8080/"
        },
        "id": "Po-1Cm1eXMhl",
        "outputId": "179a3d10-9e9d-484b-fd12-db985350eb90"
      },
      "execution_count": null,
      "outputs": [
        {
          "output_type": "execute_result",
          "data": {
            "text/plain": [
              "[[], [], [], [], [], [], [], [], [], [('march 6', 380), ('march 17', 340)]]"
            ]
          },
          "metadata": {},
          "execution_count": 54
        }
      ]
    },
    {
      "cell_type": "code",
      "source": [
        "del ht[\"march 17\"]"
      ],
      "metadata": {
        "id": "jmCFqTXBcTaJ"
      },
      "execution_count": null,
      "outputs": []
    },
    {
      "cell_type": "code",
      "source": [],
      "metadata": {
        "id": "rz-6UzuTVhdr"
      },
      "execution_count": null,
      "outputs": []
    },
    {
      "cell_type": "markdown",
      "source": [
        "## Collision handling using Linear Probing"
      ],
      "metadata": {
        "id": "RRmiqyITdFYz"
      }
    },
    {
      "cell_type": "markdown",
      "source": [
        "#### We can describe linear probing as: h'(x)=[h(x)+f(i)], where f(i)=i and i=0,1,23....."
      ],
      "metadata": {
        "id": "rmv4OfDOdVxS"
      }
    },
    {
      "cell_type": "code",
      "source": [
        "class HashTable:\n",
        "  def __init__(self):\n",
        "    self.MAX=10\n",
        "    self.arr=[[] for i in range(self.MAX)]\n",
        "  def get_unicode(self,key):\n",
        "    h=0\n",
        "    for c in key:\n",
        "      h+=ord(c)\n",
        "    return h\n",
        "  def __setitem__(self,key,value):\n",
        "    count=0\n",
        "    root_index=(self.get_unicode(key) % self.MAX)\n",
        "    if self.arr[root_index]:\n",
        "      for j in range(1,self.MAX):\n",
        "        if not self.arr[(root_index+j)%self.MAX]:\n",
        "          self.arr[(root_index+j)%self.MAX].append((key,value))\n",
        "          break\n",
        "      else:\n",
        "        print(\"Table is full\")\n",
        "    else:\n",
        "      self.arr[root_index].append((key,value))\n",
        "\n",
        "  def __getitem__(self,key):\n",
        "    for element in self.arr:\n",
        "      if element[0][0]==key:\n",
        "        return element[0][1]\n",
        "\n",
        "\n",
        "  def __delitem__(self,key):\n",
        "    for element in self.arr:\n",
        "      if element[0][0]==key:\n",
        "        del element[0]"
      ],
      "metadata": {
        "id": "_3aSYp21dLd-"
      },
      "execution_count": null,
      "outputs": []
    },
    {
      "cell_type": "code",
      "source": [
        "ht=HashTable()\n",
        "ht[\"march 6\"]=380  #index 9\n",
        "ht[\"march 17\"]=340  #index 9\n",
        "ht[\"march 26\"]=200  #index 9\n",
        "ht[\"march 35\"]=202  #index 9\n",
        "ht[\"march 44\"]=582  #index 9\n",
        "ht[\"march 62\"]=102  #index 9\n",
        "ht[\"march 71\"]=123  #index 9\n",
        "ht[\"march 80\"]=451  #index 9\n",
        "ht[\"march 99\"]=120  #index 9\n",
        "ht[\"march 109\"]=654 #index 9"
      ],
      "metadata": {
        "id": "MRZwUb-HKZ2c"
      },
      "execution_count": null,
      "outputs": []
    },
    {
      "cell_type": "code",
      "source": [
        "ht.arr"
      ],
      "metadata": {
        "colab": {
          "base_uri": "https://localhost:8080/"
        },
        "id": "S2pFo86luMF7",
        "outputId": "9e8a5178-b453-4a53-aa0c-eb5ebc69d1b1"
      },
      "execution_count": null,
      "outputs": [
        {
          "output_type": "execute_result",
          "data": {
            "text/plain": [
              "[[('march 17', 340)],\n",
              " [('march 26', 200)],\n",
              " [('march 35', 202)],\n",
              " [('march 44', 582)],\n",
              " [('march 62', 102)],\n",
              " [('march 71', 123)],\n",
              " [('march 80', 451)],\n",
              " [('march 99', 120)],\n",
              " [('march 109', 654)],\n",
              " [('march 6', 380)]]"
            ]
          },
          "metadata": {},
          "execution_count": 3
        }
      ]
    },
    {
      "cell_type": "markdown",
      "source": [
        "## Collision Handling using Quadratic  probing\n",
        "#### We can describe linear probing as: h'(x)=[h(x)+f(i)], where f(i)=i^2 and i=0,1,23....."
      ],
      "metadata": {
        "id": "cIO9Z-6KKajj"
      }
    },
    {
      "cell_type": "code",
      "source": [],
      "metadata": {
        "id": "3gHnPlajKjyL"
      },
      "execution_count": null,
      "outputs": []
    },
    {
      "cell_type": "code",
      "source": [
        "class HashTable:\n",
        "  def __init__(self):\n",
        "    self.MAX=10\n",
        "    self.arr=[None]*self.MAX\n",
        "    self.size=0\n",
        "  def get_unicode(self,key):\n",
        "    h=0\n",
        "    for c in key:\n",
        "      h+=ord(c)\n",
        "    return h\n",
        "  # def __setitem__(self,key,value):             # this method uses rehasing technique\n",
        "  #   count=0\n",
        "  #   root_index=(self.get_unicode(key) % self.MAX)\n",
        "  #   for j in range(self.MAX):\n",
        "  #     if self.arr[(root_index+j**2)%self.MAX] is None:\n",
        "  #       self.arr[(root_index+j**2)%self.MAX]=(key,value)\n",
        "  #       self.size+=1\n",
        "  #       return\n",
        "\n",
        "\n",
        "  #   print(f'check all specific slots available by quadratic probing for {key}:{value} Rehasing the table...')\n",
        "  #   self.rehash(key,value)\n",
        "  #   return\n",
        "\n",
        "  def __setitem__(self,key,value):             # this method uses double hashing technique for memory efficiency\n",
        "\n",
        "    root_index=(self.get_unicode(key) % self.MAX)\n",
        "    double_hash=1 + self.get_unicode(key) % (self.MAX - 1)\n",
        "    for j in range(self.MAX):\n",
        "      if self.arr[(root_index+j*double_hash)%self.MAX] is None:\n",
        "        self.arr[(root_index+j*double_hash)%self.MAX]=(key,value)\n",
        "        return\n",
        "\n",
        "\n",
        "    print(f'check all specific slots available by quadratic probing for {key}:{value} Rehasing the table...')\n",
        "    self.rehash(key,value)\n",
        "    return\n",
        "\n",
        "  def rehash(self,I_key,I_value):\n",
        "    old_arr=self.arr\n",
        "    self.MAX*=2\n",
        "    self.arr=[None]*self.MAX\n",
        "    self.size=0\n",
        "    for element in old_arr:\n",
        "      if element is not None:\n",
        "        self.__setitem__(element[0],element[1])\n",
        "    self.__setitem__(I_key,I_value)\n",
        "\n",
        "  def __getitem__(self,key):\n",
        "    for element in self.arr:\n",
        "      if element[0][0]==key:\n",
        "        return element[0][1]\n",
        "\n",
        "\n",
        "  def __delitem__(self,key):\n",
        "    for element in self.arr:\n",
        "      if element[0][0]==key:\n",
        "        del element[0]"
      ],
      "metadata": {
        "id": "sXyq4pfFKlD7"
      },
      "execution_count": null,
      "outputs": []
    },
    {
      "cell_type": "code",
      "source": [
        "ht=HashTable()\n",
        "ht[\"march 6\"]=380\n",
        "ht[\"march 17\"]=340  # similar root index\n",
        "ht[\"march 26\"]=200  #similar root index\n",
        "ht[\"march 35\"]=202  #similar root index\n",
        "ht[\"march 44\"]=582  #similar root index\n",
        "ht[\"march 62\"]=102  #similar root index\n",
        "ht[\"march 71\"]=123  #similar root index\n",
        "ht[\"march 80\"]=451  #similar root index\n",
        "ht[\"march 99\"]=120  #similar root index\n",
        "ht[\"march 109\"]=654 #similar root index"
      ],
      "metadata": {
        "colab": {
          "base_uri": "https://localhost:8080/"
        },
        "id": "dWG82FpSKlIL",
        "outputId": "9d24f13c-d4c7-42d4-d9c8-a36fbaf34813"
      },
      "execution_count": null,
      "outputs": [
        {
          "output_type": "stream",
          "name": "stdout",
          "text": [
            "check all specific slots available by quadratic probing for march 109:654 Rehasing the table...\n"
          ]
        }
      ]
    },
    {
      "cell_type": "code",
      "source": [
        "ht.arr"
      ],
      "metadata": {
        "colab": {
          "base_uri": "https://localhost:8080/"
        },
        "id": "9vmUytu4KlNE",
        "outputId": "1413c4e2-d640-4225-f694-5d3d92736eb3"
      },
      "execution_count": null,
      "outputs": [
        {
          "output_type": "execute_result",
          "data": {
            "text/plain": [
              "[None,\n",
              " ('march 62', 102),\n",
              " None,\n",
              " ('march 71', 123),\n",
              " None,\n",
              " None,\n",
              " None,\n",
              " ('march 17', 340),\n",
              " None,\n",
              " ('march 99', 120),\n",
              " None,\n",
              " ('march 6', 380),\n",
              " None,\n",
              " ('march 44', 582),\n",
              " None,\n",
              " ('march 26', 200),\n",
              " ('march 109', 654),\n",
              " ('march 35', 202),\n",
              " None,\n",
              " ('march 80', 451)]"
            ]
          },
          "metadata": {},
          "execution_count": 145
        }
      ]
    },
    {
      "cell_type": "code",
      "source": [],
      "metadata": {
        "id": "ALqOoYdBtLwl"
      },
      "execution_count": null,
      "outputs": []
    }
  ]
}