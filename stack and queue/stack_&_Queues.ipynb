{
  "nbformat": 4,
  "nbformat_minor": 0,
  "metadata": {
    "colab": {
      "provenance": []
    },
    "kernelspec": {
      "name": "python3",
      "display_name": "Python 3"
    },
    "language_info": {
      "name": "python"
    }
  },
  "cells": [
    {
      "cell_type": "code",
      "execution_count": null,
      "metadata": {
        "id": "R-MZ-kx_wZP0"
      },
      "outputs": [],
      "source": [
        "s=[]\n",
        "s.append(\"https://www.w3schools.com/python/default.asp\")\n",
        "s.append(\"https://www.w3schools.com/python/python_intro.asp\")\n",
        "s.append(\"https://www.w3schools.com/python/python_getstarted.asp\")\n",
        "s.append(\"https://www.w3schools.com/python/python_syntax.asp\")"
      ]
    },
    {
      "cell_type": "code",
      "source": [
        "s"
      ],
      "metadata": {
        "colab": {
          "base_uri": "https://localhost:8080/"
        },
        "id": "bFaf4x0ZxQV1",
        "outputId": "e54e535d-f23f-4b74-86a3-b67080382167"
      },
      "execution_count": null,
      "outputs": [
        {
          "output_type": "execute_result",
          "data": {
            "text/plain": [
              "['https://www.w3schools.com/python/default.asp',\n",
              " 'https://www.w3schools.com/python/python_intro.asp',\n",
              " 'https://www.w3schools.com/python/python_getstarted.asp',\n",
              " 'https://www.w3schools.com/python/python_syntax.asp']"
            ]
          },
          "metadata": {},
          "execution_count": 2
        }
      ]
    },
    {
      "cell_type": "code",
      "source": [
        "s.pop(0)"
      ],
      "metadata": {
        "colab": {
          "base_uri": "https://localhost:8080/",
          "height": 35
        },
        "id": "CGZvE0BSxVo6",
        "outputId": "61d84c7e-ce4b-4d06-d25e-6eb6e831ae12"
      },
      "execution_count": null,
      "outputs": [
        {
          "output_type": "execute_result",
          "data": {
            "text/plain": [
              "'https://www.w3schools.com/python/default.asp'"
            ],
            "application/vnd.google.colaboratory.intrinsic+json": {
              "type": "string"
            }
          },
          "metadata": {},
          "execution_count": 4
        }
      ]
    },
    {
      "cell_type": "code",
      "source": [
        "s"
      ],
      "metadata": {
        "colab": {
          "base_uri": "https://localhost:8080/"
        },
        "id": "0-rljdt2xkU3",
        "outputId": "341cc23e-154d-48f0-b807-39c909bec002"
      },
      "execution_count": null,
      "outputs": [
        {
          "output_type": "execute_result",
          "data": {
            "text/plain": [
              "['https://www.w3schools.com/python/python_intro.asp',\n",
              " 'https://www.w3schools.com/python/python_getstarted.asp']"
            ]
          },
          "metadata": {},
          "execution_count": 5
        }
      ]
    },
    {
      "cell_type": "code",
      "source": [
        "from collections import deque"
      ],
      "metadata": {
        "id": "uW934_9Mxprf"
      },
      "execution_count": null,
      "outputs": []
    },
    {
      "cell_type": "code",
      "source": [
        "s=deque()"
      ],
      "metadata": {
        "id": "BKh1gYPOy8RR"
      },
      "execution_count": null,
      "outputs": []
    },
    {
      "cell_type": "code",
      "source": [
        "s.appendleft(\"https://www.w3schools.com/python/default.asp\")\n",
        "s.appendleft(\"https://www.w3schools.com/python/python_intro.asp\")\n",
        "s.appendleft(\"https://www.w3schools.com/python/python_getstarted.asp\")\n",
        "s.appendleft(\"https://www.w3schools.com/python/python_syntax.asp\")"
      ],
      "metadata": {
        "id": "gmOs8Dezy_M1"
      },
      "execution_count": null,
      "outputs": []
    },
    {
      "cell_type": "code",
      "source": [
        "s.popleft()"
      ],
      "metadata": {
        "colab": {
          "base_uri": "https://localhost:8080/",
          "height": 35
        },
        "id": "EkQYFAFWzRdV",
        "outputId": "426054b8-97bb-43b0-919b-07cb90de428c"
      },
      "execution_count": null,
      "outputs": [
        {
          "output_type": "execute_result",
          "data": {
            "text/plain": [
              "'https://www.w3schools.com/python/python_syntax.asp'"
            ],
            "application/vnd.google.colaboratory.intrinsic+json": {
              "type": "string"
            }
          },
          "metadata": {},
          "execution_count": 18
        }
      ]
    },
    {
      "cell_type": "code",
      "source": [],
      "metadata": {
        "id": "36JaJwxIzSGh"
      },
      "execution_count": null,
      "outputs": []
    },
    {
      "cell_type": "markdown",
      "source": [
        "## implementation of stack using deque"
      ],
      "metadata": {
        "id": "mm7TuvkWzdHR"
      }
    },
    {
      "cell_type": "code",
      "source": [
        "from collections import deque\n",
        "class Stack:\n",
        "  def __init__(self):\n",
        "    self.container=deque()\n",
        "  def push(self,value):\n",
        "    self.container.append(value) #insert value to the right side of the deque\n",
        "  def pop(self):\n",
        "    return self.container.pop() # remove an elememnt from the right side of the deque\n",
        "  def peek(self,num_of_element_want_see_from_last): # returns the latest inserted value in order(LIFO)\n",
        "    if num_of_element_want_see_from_last<=len(self.container):\n",
        "      result=tuple(self.container[-num] for num in range(1,num_of_element_want_see_from_last+1))\n",
        "      return result\n",
        "  def reverse_string(self,string):\n",
        "    self.container=deque()\n",
        "    for c in string:\n",
        "      self.push(c)\n",
        "    return \"\".join(list(self.peek(len(string))))\n",
        "  def isbanalced(self,text):\n",
        "    self.container=deque()\n",
        "    valid_pairs={')':'(','}':'{',']':'['}\n",
        "    opening_parenthesis=set(valid_pairs.values())\n",
        "    if isinstance(text,str):\n",
        "      for c in text:\n",
        "        if c in opening_parenthesis:\n",
        "          self.push(c)\n",
        "        elif c in valid_pairs:\n",
        "          if len(self.container)==0:\n",
        "            return False\n",
        "          else:\n",
        "            poped_element=self.pop()\n",
        "            if poped_element!=valid_pairs[c]:\n",
        "              return False\n",
        "      return not self.container\n",
        "\n",
        "    else:\n",
        "      print(\"Enter string input\")\n",
        "\n"
      ],
      "metadata": {
        "id": "UDo4gLZ0zjmI"
      },
      "execution_count": null,
      "outputs": []
    },
    {
      "cell_type": "code",
      "source": [
        "st=Stack()\n",
        "st.push(\"https://www.w3schools.com/python/default.asp\")\n",
        "st.push(\"https://www.w3schools.com/python/python_intro.asp\")\n",
        "st.push(\"https://www.w3schools.com/python/python_getstarted.asp\")\n",
        "st.push(\"https://www.w3schools.com/python/python_syntax.asp\")"
      ],
      "metadata": {
        "id": "gQx-Mb3Y3PPC"
      },
      "execution_count": null,
      "outputs": []
    },
    {
      "cell_type": "code",
      "source": [
        "st.container"
      ],
      "metadata": {
        "colab": {
          "base_uri": "https://localhost:8080/"
        },
        "id": "FTCmz9QX3x7A",
        "outputId": "718b5cda-6d4a-4641-a368-c4aaab0f35a2"
      },
      "execution_count": null,
      "outputs": [
        {
          "output_type": "execute_result",
          "data": {
            "text/plain": [
              "deque(['https://www.w3schools.com/python/default.asp',\n",
              "       'https://www.w3schools.com/python/python_intro.asp',\n",
              "       'https://www.w3schools.com/python/python_getstarted.asp',\n",
              "       'https://www.w3schools.com/python/python_syntax.asp'])"
            ]
          },
          "metadata": {},
          "execution_count": 54
        }
      ]
    },
    {
      "cell_type": "code",
      "source": [
        "st.pop()"
      ],
      "metadata": {
        "colab": {
          "base_uri": "https://localhost:8080/",
          "height": 35
        },
        "id": "CjWk_o7x4EbT",
        "outputId": "a6da9264-d559-4c40-b985-f53a9d2e8156"
      },
      "execution_count": null,
      "outputs": [
        {
          "output_type": "execute_result",
          "data": {
            "text/plain": [
              "'https://www.w3schools.com/python/python_syntax.asp'"
            ],
            "application/vnd.google.colaboratory.intrinsic+json": {
              "type": "string"
            }
          },
          "metadata": {},
          "execution_count": 10
        }
      ]
    },
    {
      "cell_type": "code",
      "source": [
        "st.peek(2)"
      ],
      "metadata": {
        "colab": {
          "base_uri": "https://localhost:8080/"
        },
        "id": "VU24jKgp4OKn",
        "outputId": "018a312c-f6f9-43c4-f9d7-7c33565f4781"
      },
      "execution_count": null,
      "outputs": [
        {
          "output_type": "execute_result",
          "data": {
            "text/plain": [
              "('https://www.w3schools.com/python/python_syntax.asp',\n",
              " 'https://www.w3schools.com/python/python_getstarted.asp')"
            ]
          },
          "metadata": {},
          "execution_count": 56
        }
      ]
    },
    {
      "cell_type": "code",
      "source": [],
      "metadata": {
        "id": "jl5DWHBk5c6b"
      },
      "execution_count": null,
      "outputs": []
    },
    {
      "cell_type": "markdown",
      "source": [
        "#### 1.Write a function in python that can reverse a string using stack data structure. reverse_string(\"We will conquere COVID-19\") should return \"91-DIVOC ereuqnoc lliw eW\"\n"
      ],
      "metadata": {
        "id": "va46sT6V86vV"
      }
    },
    {
      "cell_type": "code",
      "source": [
        "st.reverse_string(\"We will conquere COVID-19\")"
      ],
      "metadata": {
        "colab": {
          "base_uri": "https://localhost:8080/",
          "height": 35
        },
        "id": "SUFjQUru9FqY",
        "outputId": "cdc8dfab-a42b-4dcc-dfcb-adb65fdbc811"
      },
      "execution_count": null,
      "outputs": [
        {
          "output_type": "execute_result",
          "data": {
            "text/plain": [
              "'91-DIVOC ereuqnoc lliw eW'"
            ],
            "application/vnd.google.colaboratory.intrinsic+json": {
              "type": "string"
            }
          },
          "metadata": {},
          "execution_count": 20
        }
      ]
    },
    {
      "cell_type": "code",
      "source": [],
      "metadata": {
        "id": "aMZq_CKcAVBI"
      },
      "execution_count": null,
      "outputs": []
    },
    {
      "cell_type": "markdown",
      "source": [
        "#### Write a function in python that checks if paranthesis in the string are balanced or not. Possible parantheses are \"{}',\"()\" or \"[]\".\n",
        "#### is_balanced(\"({a+b})\")     --> True\n",
        "#### is_balanced(\"))((a+b}{\")   --> False\n",
        "#### is_balanced(\"((a+b))\")     --> True\n",
        "#### is_balanced(\"))\")          --> False\n",
        "#### is_balanced(\"[a+b]*(x+2y)*{gg+kk}\") --> True"
      ],
      "metadata": {
        "id": "KQvNh18SZigS"
      }
    },
    {
      "cell_type": "code",
      "source": [
        "print(st.isbanalced(\"[a+b](x+2y){gg+kk}\"))\n",
        "print(st.isbanalced(\"))\"))\n",
        "print(st.isbanalced(\"((a+b))\"))\n",
        "print(st.isbanalced(\"))((a+b}{\"))\n",
        "print(st.isbanalced(\"({a+b})\"))"
      ],
      "metadata": {
        "colab": {
          "base_uri": "https://localhost:8080/"
        },
        "id": "Zr6sqDK5CE1-",
        "outputId": "132673fd-e7fc-44ba-96b1-6fb3a2024202"
      },
      "execution_count": null,
      "outputs": [
        {
          "output_type": "stream",
          "name": "stdout",
          "text": [
            "True\n",
            "False\n",
            "True\n",
            "False\n",
            "True\n"
          ]
        }
      ]
    },
    {
      "cell_type": "code",
      "source": [],
      "metadata": {
        "id": "stqwIFz3dMtQ"
      },
      "execution_count": null,
      "outputs": []
    },
    {
      "cell_type": "markdown",
      "source": [
        "### Queue Implementation"
      ],
      "metadata": {
        "id": "qMKsYg6uQRLT"
      }
    },
    {
      "cell_type": "code",
      "source": [
        "from collections import deque\n",
        "\n",
        "class Queue:\n",
        "\n",
        "  def __init__(self):\n",
        "    self.container=deque()\n",
        "\n",
        "  def enqueue(self,val):\n",
        "    self.container.appendleft(val)\n",
        "\n",
        "  def dequeue(self):\n",
        "    return self.container.pop()\n",
        "\n"
      ],
      "metadata": {
        "id": "ytVhXOcNQV4B"
      },
      "execution_count": null,
      "outputs": []
    },
    {
      "cell_type": "code",
      "source": [
        "qq=Queue()\n",
        "\n",
        "qq.enqueue(\n",
        "        {\n",
        "        \"company\":'Radiant',\n",
        "        'timestamp':'3-Nov, 10.26 AM',\n",
        "        'price':125.0\n",
        "        }\n",
        "        )\n",
        "\n",
        "qq.enqueue(\n",
        "        {\n",
        "        \"company\":'Radiant',\n",
        "        'timestamp':'3-Nov, 10.27 AM',\n",
        "        'price':130.0\n",
        "        }\n",
        "        )\n",
        "\n",
        "qq.enqueue(\n",
        "        {\n",
        "        \"company\":'Radiant',\n",
        "        'timestamp':'3-Nov, 10.28 AM',\n",
        "        'price':135.0\n",
        "        }\n",
        "        )"
      ],
      "metadata": {
        "id": "_6DafC7tRCgy"
      },
      "execution_count": null,
      "outputs": []
    },
    {
      "cell_type": "code",
      "source": [
        "qq.container"
      ],
      "metadata": {
        "colab": {
          "base_uri": "https://localhost:8080/"
        },
        "id": "OXeAEkMISJQL",
        "outputId": "df5bdba3-b9aa-4c8c-8d82-628153c0e487"
      },
      "execution_count": null,
      "outputs": [
        {
          "output_type": "execute_result",
          "data": {
            "text/plain": [
              "deque([{'company': 'Radiant', 'timestamp': '3-Nov, 10.28 AM', 'price': 135.0},\n",
              "       {'company': 'Radiant', 'timestamp': '3-Nov, 10.27 AM', 'price': 130.0},\n",
              "       {'company': 'Radiant', 'timestamp': '3-Nov, 10.26 AM', 'price': 125.0}])"
            ]
          },
          "metadata": {},
          "execution_count": 12
        }
      ]
    },
    {
      "cell_type": "code",
      "source": [
        "qq.dequeue()"
      ],
      "metadata": {
        "colab": {
          "base_uri": "https://localhost:8080/"
        },
        "id": "JwEz_LMbSLMG",
        "outputId": "9760cb88-47d0-447f-a987-9e83c3e3a052"
      },
      "execution_count": null,
      "outputs": [
        {
          "output_type": "execute_result",
          "data": {
            "text/plain": [
              "{'company': 'Radiant', 'timestamp': '3-Nov, 10.26 AM', 'price': 125.0}"
            ]
          },
          "metadata": {},
          "execution_count": 13
        }
      ]
    },
    {
      "cell_type": "code",
      "source": [],
      "metadata": {
        "id": "UNbMKcfwSTpY"
      },
      "execution_count": null,
      "outputs": []
    },
    {
      "cell_type": "markdown",
      "source": [
        "1. Design a food ordering system where your python program will run two threads,\n",
        "\n",
        "Place Order: This thread will be placing an order and inserting that into a queue. This thread places new order every 0.5 second. (hint: use time.sleep(0.5) function)\n",
        "Serve Order: This thread will server the order. All you need to do is pop the order out of the queue and print it. This thread serves an order every 2 seconds. Also start this thread 1 second after place order thread is started.\n",
        "\n",
        "Pass following list as an argument to place order thread,\n",
        "\n",
        "orders = ['pizza','samosa','pasta','biryani','burger']"
      ],
      "metadata": {
        "id": "Cx_c7Bgiu99O"
      }
    },
    {
      "cell_type": "code",
      "source": [
        "from collections import deque\n",
        "import time\n",
        "class FoodOrderManagement:\n",
        "\n",
        "  def __init__(self,order_list):\n",
        "    self.container=deque()\n",
        "    self.order_list=order_list\n",
        "\n",
        "  def place_order(self):\n",
        "    for item in self.order_list:\n",
        "      self.container.appendleft(item)\n",
        "      print(f'getting order:{item}')\n",
        "      time.sleep(0.5)\n",
        "\n",
        "  def serve_order(self):\n",
        "    while True:\n",
        "      if self.container:\n",
        "        item=self.container.pop()\n",
        "        print(f'Serving order:{item}')\n",
        "        time.sleep(2)\n",
        "      else:\n",
        "        break"
      ],
      "metadata": {
        "id": "WIlWwQMOu_s0"
      },
      "execution_count": null,
      "outputs": []
    },
    {
      "cell_type": "code",
      "source": [
        "import threading\n",
        "orders = ['pizza','samosa','pasta','biryani','burger']\n",
        "fdm=FoodOrderManagement(orders)\n",
        "\n",
        "ot=threading.Thread(target=fdm.place_order)\n",
        "dt=threading.Thread(target=fdm.serve_order)\n",
        "\n",
        "ot.start()\n",
        "time.sleep(1)\n",
        "dt.start()\n",
        "\n",
        "ot.join()\n",
        "dt.join()"
      ],
      "metadata": {
        "colab": {
          "base_uri": "https://localhost:8080/"
        },
        "id": "RuMmQ54bx7gf",
        "outputId": "297f40a6-a004-45f4-a16d-76293eca0173"
      },
      "execution_count": null,
      "outputs": [
        {
          "output_type": "stream",
          "name": "stdout",
          "text": [
            "getting order:pizza\n",
            "getting order:samosa\n",
            "Serving order:pizza\n",
            "getting order:pasta\n",
            "getting order:biryani\n",
            "getting order:burger\n",
            "Serving order:samosa\n",
            "Serving order:pasta\n",
            "Serving order:biryani\n",
            "Serving order:burger\n"
          ]
        }
      ]
    },
    {
      "cell_type": "code",
      "source": [],
      "metadata": {
        "id": "PYKX1mHMzv_L"
      },
      "execution_count": null,
      "outputs": []
    },
    {
      "cell_type": "markdown",
      "source": [
        "Write a program to print binary numbers from 1 to 10 using Queue. Use Queue class for implementation. Binary sequence should look like,\n",
        "    1\n",
        "    10\n",
        "    11\n",
        "    100\n",
        "    101\n",
        "    110\n",
        "    111\n",
        "    1000\n",
        "    1001\n",
        "    1010\n",
        "\n",
        "Hint: Notice a pattern above. After 1 second and third number is 1+0 and 1+1. 4th and 5th number are second number (i.e. 10) + 0 and second number (i.e. 10) + 1.\n",
        "\n",
        "You also need to add front() function in queue class that can return the front element in the queue."
      ],
      "metadata": {
        "id": "XPXXsrZRCZgH"
      }
    },
    {
      "cell_type": "code",
      "source": [
        "class Queue:\n",
        "\n",
        "  def __init__(self):\n",
        "    self.buffer=deque()\n",
        "\n",
        "  def binary_num_generator(self,count_from,count_upto):\n",
        "    self.buffer.appendleft(1)\n",
        "    for num in range(count_from,count_upto+1):\n",
        "      element=self.buffer.pop()\n",
        "      print(f'{num}--> {element}')\n",
        "      next=str(element)+'0'\n",
        "      next_next=str(element)+'1'\n",
        "      self.buffer.appendleft(int(next))\n",
        "      self.buffer.appendleft(int(next_next))\n"
      ],
      "metadata": {
        "id": "fxDEDYnKChaT"
      },
      "execution_count": null,
      "outputs": []
    },
    {
      "cell_type": "code",
      "source": [
        "q=Queue()\n",
        "q.binary_num_generator(1,20)"
      ],
      "metadata": {
        "colab": {
          "base_uri": "https://localhost:8080/"
        },
        "id": "RjeXo5IsKJ12",
        "outputId": "e44e0e61-8646-4872-c676-f1c4de3e57ea"
      },
      "execution_count": null,
      "outputs": [
        {
          "output_type": "stream",
          "name": "stdout",
          "text": [
            "1--> 1\n",
            "2--> 10\n",
            "3--> 11\n",
            "4--> 100\n",
            "5--> 101\n",
            "6--> 110\n",
            "7--> 111\n",
            "8--> 1000\n",
            "9--> 1001\n",
            "10--> 1010\n",
            "11--> 1011\n",
            "12--> 1100\n",
            "13--> 1101\n",
            "14--> 1110\n",
            "15--> 1111\n",
            "16--> 10000\n",
            "17--> 10001\n",
            "18--> 10010\n",
            "19--> 10011\n",
            "20--> 10100\n"
          ]
        }
      ]
    },
    {
      "cell_type": "code",
      "source": [],
      "metadata": {
        "id": "fFsr-MqQKRB4"
      },
      "execution_count": null,
      "outputs": []
    }
  ]
}